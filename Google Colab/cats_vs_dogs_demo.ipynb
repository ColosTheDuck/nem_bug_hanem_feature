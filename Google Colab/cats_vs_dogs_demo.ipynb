{
  "nbformat": 4,
  "nbformat_minor": 0,
  "metadata": {
    "colab": {
      "name": "cats_vs_dogs_demo.ipynb",
      "provenance": [],
      "collapsed_sections": [],
      "machine_shape": "hm"
    },
    "kernelspec": {
      "name": "python3",
      "display_name": "Python 3"
    },
    "accelerator": "GPU"
  },
  "cells": [
    {
      "cell_type": "code",
      "metadata": {
        "id": "S-M2f85c7BNg",
        "colab_type": "code",
        "colab": {}
      },
      "source": [
        "%tensorflow_version 2\n",
        "import tensorflow as tf\n",
        "from tensorflow.keras.models import Sequential\n",
        "from tensorflow.keras.layers import Dense, Conv2D, Flatten, Dropout, MaxPooling2D\n",
        "import tensorflow_datasets as tfds\n",
        "import cv2\n",
        "import os\n",
        "import numpy as np\n",
        "import matplotlib.pyplot as plt"
      ],
      "execution_count": 0,
      "outputs": []
    },
    {
      "cell_type": "markdown",
      "metadata": {
        "id": "NQQKJaZkJINk",
        "colab_type": "text"
      },
      "source": [
        "Adatok letöltése"
      ]
    },
    {
      "cell_type": "code",
      "metadata": {
        "id": "CQw9oStm8qyM",
        "colab_type": "code",
        "colab": {}
      },
      "source": [
        "data = tfds.load(\"cats_vs_dogs\")"
      ],
      "execution_count": 0,
      "outputs": []
    },
    {
      "cell_type": "markdown",
      "metadata": {
        "id": "0VY19_RXJNAb",
        "colab_type": "text"
      },
      "source": [
        "A letöltött adatból csak a tanuláshoz szükséges adatot tartjuk meg"
      ]
    },
    {
      "cell_type": "code",
      "metadata": {
        "id": "pScsoKLH9Ega",
        "colab_type": "code",
        "colab": {}
      },
      "source": [
        "train_data = data[\"train\"]"
      ],
      "execution_count": 0,
      "outputs": []
    },
    {
      "cell_type": "markdown",
      "metadata": {
        "id": "XrhTb1k6JV68",
        "colab_type": "text"
      },
      "source": [
        "Kiválasztunk 10 képet a halmazból, félre teszünk tesztelési célra, ezeket a hálózat nem fogja megtanulni"
      ]
    },
    {
      "cell_type": "code",
      "metadata": {
        "id": "JVj4IFaHmqn9",
        "colab_type": "code",
        "colab": {}
      },
      "source": [
        "test_data =data[\"train\"].take(10)\n",
        "orig_test_data = data[\"train\"].take(10)\n",
        "train_data = data[\"train\"].skip(10)"
      ],
      "execution_count": 0,
      "outputs": []
    },
    {
      "cell_type": "markdown",
      "metadata": {
        "id": "XWfEF-MVJg1n",
        "colab_type": "text"
      },
      "source": [
        "Nézzük meg a képeket, amiken tesztelni szeretnénk"
      ]
    },
    {
      "cell_type": "code",
      "metadata": {
        "id": "p8VuwZfnBSJP",
        "colab_type": "code",
        "colab": {}
      },
      "source": [
        "fig, axes = plt.subplots(1, 5, figsize=(20,20))\n",
        "for d, ax in zip(test_data.take(5), axes):\n",
        "  ax.imshow(d[\"image\"]) "
      ],
      "execution_count": 0,
      "outputs": []
    },
    {
      "cell_type": "markdown",
      "metadata": {
        "id": "QICH9wBFJm3f",
        "colab_type": "text"
      },
      "source": [
        "Egy méretre vágjuk a képeket, illetve a megfelelő adattípusra konvertáljuk"
      ]
    },
    {
      "cell_type": "code",
      "metadata": {
        "id": "F-_IlFq4DY3X",
        "colab_type": "code",
        "colab": {}
      },
      "source": [
        "test_data = test_data.map(lambda img: tf.cast(tf.image.resize_with_crop_or_pad(img[\"image\"], 150,150), tf.int32))\n",
        "train_data = train_data.map(lambda x: (tf.cast(tf.image.resize_with_crop_or_pad(x[\"image\"], 150,150), tf.int32), x[\"label\"]))\n"
      ],
      "execution_count": 0,
      "outputs": []
    },
    {
      "cell_type": "markdown",
      "metadata": {
        "id": "qwMsgpntJ0Jv",
        "colab_type": "text"
      },
      "source": [
        "Az adathalmazt megkeverjük és kisebb részegységekre bontjuk"
      ]
    },
    {
      "cell_type": "code",
      "metadata": {
        "id": "Ye8eeGH0DcgN",
        "colab_type": "code",
        "colab": {}
      },
      "source": [
        "train_data = train_data.shuffle(1024).batch(32)\n",
        "test_data = test_data.batch(10)\n",
        "train_data = train_data.prefetch(1)"
      ],
      "execution_count": 0,
      "outputs": []
    },
    {
      "cell_type": "markdown",
      "metadata": {
        "id": "Ed-Db-OmJ2cY",
        "colab_type": "text"
      },
      "source": [
        "Létrehozzuk magát a modellt"
      ]
    },
    {
      "cell_type": "code",
      "metadata": {
        "id": "pDxCiJrtfcUL",
        "colab_type": "code",
        "colab": {}
      },
      "source": [
        "model = Sequential([\n",
        "    Conv2D(16, 3, padding='same', activation='relu', input_shape=(150, 150 ,3)),\n",
        "    MaxPooling2D(),\n",
        "    Conv2D(32, 3, padding='same', activation='relu'),\n",
        "    MaxPooling2D(),\n",
        "    Conv2D(64, 3, padding='same', activation='relu'),\n",
        "    MaxPooling2D(),\n",
        "    Flatten(),\n",
        "    Dense(512, activation='relu'),\n",
        "    Dense(1)\n",
        "])"
      ],
      "execution_count": 0,
      "outputs": []
    },
    {
      "cell_type": "markdown",
      "metadata": {
        "id": "ZImxipmvJ6AL",
        "colab_type": "text"
      },
      "source": [
        "Az elkészült modelt véglegesítjük"
      ]
    },
    {
      "cell_type": "code",
      "metadata": {
        "id": "GfLFlIoFfdCB",
        "colab_type": "code",
        "colab": {}
      },
      "source": [
        "model.compile(optimizer='adam',\n",
        "              loss=tf.keras.losses.BinaryCrossentropy(from_logits=True),\n",
        "              metrics=['accuracy'])"
      ],
      "execution_count": 0,
      "outputs": []
    },
    {
      "cell_type": "markdown",
      "metadata": {
        "id": "VLiPfaUlJ-XT",
        "colab_type": "text"
      },
      "source": [
        "Elkezdődhet a tanulás"
      ]
    },
    {
      "cell_type": "code",
      "metadata": {
        "id": "W4wwcH-uF5PK",
        "colab_type": "code",
        "colab": {}
      },
      "source": [
        "model.fit(train_data, epochs=100)"
      ],
      "execution_count": 0,
      "outputs": []
    },
    {
      "cell_type": "markdown",
      "metadata": {
        "id": "nZEEJKlIKArU",
        "colab_type": "text"
      },
      "source": [
        "Saját kép megjelenítése a hálózat által felcímkézve"
      ]
    },
    {
      "cell_type": "code",
      "metadata": {
        "id": "GH6W3bSXnTTs",
        "colab_type": "code",
        "colab": {}
      },
      "source": [
        "def predict_own_picture(img_path):\n",
        "  orig_img = cv2.imread(img_path)\n",
        "  orig_img = cv2.cvtColor(orig_img, cv2.COLOR_BGR2RGB)\n",
        "  image = cv2.resize(orig_img, dsize=(150,150))\n",
        "  image = image.reshape(1, 150, 150, 3)\n",
        "  pred = model.predict_classes(image, batch_size=None)\n",
        "  plt.imshow(orig_img)\n",
        "  if pred == 0:\n",
        "    plt.title(\"cat\")\n",
        "  else:\n",
        "    plt.title(\"dog\")"
      ],
      "execution_count": 0,
      "outputs": []
    },
    {
      "cell_type": "code",
      "metadata": {
        "id": "j5HoJ-r6XlBX",
        "colab_type": "code",
        "colab": {}
      },
      "source": [
        "predict_own_picture()"
      ],
      "execution_count": 0,
      "outputs": []
    },
    {
      "cell_type": "markdown",
      "metadata": {
        "id": "axx86BCUKLYL",
        "colab_type": "text"
      },
      "source": [
        "Teszteljük le az elején különvett 10 képet"
      ]
    },
    {
      "cell_type": "code",
      "metadata": {
        "id": "hSl0LjSRJNDq",
        "colab_type": "code",
        "colab": {}
      },
      "source": [
        "predictions = model.predict_classes(test_data, batch_size=None)"
      ],
      "execution_count": 0,
      "outputs": []
    },
    {
      "cell_type": "markdown",
      "metadata": {
        "id": "vGuJYwTQKPdM",
        "colab_type": "text"
      },
      "source": [
        "Jelenítsük meg az eredményt"
      ]
    },
    {
      "cell_type": "code",
      "metadata": {
        "id": "TtgURgDWtKUe",
        "colab_type": "code",
        "colab": {}
      },
      "source": [
        "fig, axes = plt.subplots(1, 10, figsize=(20,10))\n",
        "for d, ax, prediction in zip(orig_test_data.take(10), axes, predictions):\n",
        "  ax.imshow(d[\"image\"])\n",
        "  if prediction == 0:\n",
        "    ax.set_title(\"cat\")\n",
        "  else:\n",
        "    ax.set_title(\"dog\")"
      ],
      "execution_count": 0,
      "outputs": []
    }
  ]
}